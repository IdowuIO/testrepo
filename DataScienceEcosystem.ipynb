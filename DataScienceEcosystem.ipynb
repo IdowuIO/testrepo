{
 "cells": [
  {
   "cell_type": "markdown",
   "id": "da4794f8",
   "metadata": {},
   "source": [
    "# Data Science Tools and Ecosystem\n"
   ]
  },
  {
   "cell_type": "markdown",
   "id": "b4f7a8ba",
   "metadata": {},
   "source": [
    "### In this notebook, Data Science Tools and Ecosystem are summarized."
   ]
  },
  {
   "cell_type": "markdown",
   "id": "46dc6126",
   "metadata": {},
   "source": [
    "**Objectives**: \n",
    "- List popular languages for Data Science\n",
    "- List Common Libraries used by Data Scientists\n",
    "- Create Table of Data Science Tools \n",
    "- Introduce Arithmetic operations in Jupyter Notebook"
   ]
  },
  {
   "cell_type": "markdown",
   "id": "4bd0ac9f",
   "metadata": {},
   "source": [
    "#### Some of the popular languages that Data Scientists use are:\n",
    "\n",
    "1. Python\n",
    "2. R / R studio \n",
    "3. Julia "
   ]
  },
  {
   "cell_type": "markdown",
   "id": "e9265290",
   "metadata": {},
   "source": [
    "#### Some of the commonly used libraries used by Data Scientists include:\n",
    "\n",
    "1. NumPy\n",
    "2. Pytorch \n",
    "3. Pandas \n",
    "4. Keras \n",
    "5. Scikit- Learn\n",
    "6. TensorFlow etc."
   ]
  },
  {
   "cell_type": "markdown",
   "id": "79d93183",
   "metadata": {},
   "source": [
    "|Data Science Tools| \n",
    "|-----|\n",
    "|Tensorflow |\n",
    "|Apache Spark|\n",
    "|Pandas|\n"
   ]
  },
  {
   "cell_type": "markdown",
   "id": "fc593a50",
   "metadata": {},
   "source": [
    "## Introducing Arithmetic Expressions"
   ]
  },
  {
   "cell_type": "markdown",
   "id": "afa8dc4b",
   "metadata": {},
   "source": [
    "### Below are a few examples of evaluating arithmetic expressions in Python"
   ]
  },
  {
   "cell_type": "code",
   "execution_count": 1,
   "id": "9d1c2588",
   "metadata": {},
   "outputs": [
    {
     "data": {
      "text/plain": [
       "17"
      ]
     },
     "execution_count": 1,
     "metadata": {},
     "output_type": "execute_result"
    }
   ],
   "source": [
    "# This a simple arithmetic expression to mutiply then add integers.\n",
    "(3*4)+5"
   ]
  },
  {
   "cell_type": "code",
   "execution_count": 2,
   "id": "2694873c",
   "metadata": {},
   "outputs": [
    {
     "data": {
      "text/plain": [
       "3.3333333333333335"
      ]
     },
     "execution_count": 2,
     "metadata": {},
     "output_type": "execute_result"
    }
   ],
   "source": [
    "# This will convert 200 minutes to hours by diving by 60.\n",
    "\n",
    "(200/ 60)"
   ]
  },
  {
   "cell_type": "markdown",
   "id": "f7f799de",
   "metadata": {},
   "source": [
    "## Author\n",
    "Idowu Isaac Oluwagbemiga "
   ]
  }
 ],
 "metadata": {
  "kernelspec": {
   "display_name": "Python 3 (ipykernel)",
   "language": "python",
   "name": "python3"
  },
  "language_info": {
   "codemirror_mode": {
    "name": "ipython",
    "version": 3
   },
   "file_extension": ".py",
   "mimetype": "text/x-python",
   "name": "python",
   "nbconvert_exporter": "python",
   "pygments_lexer": "ipython3",
   "version": "3.9.13"
  }
 },
 "nbformat": 4,
 "nbformat_minor": 5
}
